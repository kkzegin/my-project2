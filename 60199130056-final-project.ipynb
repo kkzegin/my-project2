{
 "cells": [
  {
   "cell_type": "markdown",
   "metadata": {},
   "source": [
    "# Kankamon Thaweephol   (ID.60199130056)"
   ]
  },
  {
   "cell_type": "markdown",
   "metadata": {},
   "source": [
    "## Final Project - Identifying Fraud From Enron Data"
   ]
  },
  {
   "cell_type": "markdown",
   "metadata": {},
   "source": [
    "### About Enron"
   ]
  },
  {
   "cell_type": "markdown",
   "metadata": {},
   "source": [
    "In 2000, Enron was one of the largest companies in the United States. By 2002, it had collapsed into bankruptcy due to widespread corporate fraud. In the resulting Federal investigation, there was a significant amount of typically confidential information entered into public record, including tens of thousands of emails and detailed financial data for top executives."
   ]
  },
  {
   "cell_type": "markdown",
   "metadata": {},
   "source": [
    "### Import library"
   ]
  },
  {
   "cell_type": "code",
   "execution_count": 87,
   "metadata": {
    "collapsed": true
   },
   "outputs": [],
   "source": [
    "import pandas as pd\n",
    "import pandas\n",
    "import matplotlib.pyplot as plt\n",
    "%matplotlib inline\n",
    "\n",
    "# import files from specific folder\n",
    "# from tester import two functions will save time creat some function for validation and algorithm\n",
    "import sys\n",
    "sys.path.append(\"script/\")\n",
    "\n",
    "from feature_format import featureFormat, targetFeatureSplit\n",
    "from tester import test_classifier, dump_classifier_and_data\n",
    "\n",
    "# load for algorithm\n",
    "import sklearn\n",
    "import numpy as np\n",
    "import pickle\n",
    "from time import time\n",
    "from sklearn.feature_selection import SelectKBest\n",
    "from sklearn.cross_validation import train_test_split\n",
    "from sklearn.tree import DecisionTreeClassifier\n",
    "from sklearn.naive_bayes import GaussianNB\n",
    "from sklearn.neighbors import KNeighborsClassifier\n",
    "from sklearn.pipeline import Pipeline\n",
    "from sklearn.preprocessing import StandardScaler\n",
    "from sklearn.grid_search import GridSearchCV\n",
    "from sklearn.ensemble import AdaBoostClassifier\n",
    "from sklearn.pipeline import Pipeline\n",
    "from sklearn.model_selection import GridSearchCV, StratifiedShuffleSplit, cross_val_score\n",
    "from sklearn.decomposition import PCA\n",
    "from sklearn.svm import SVC\n",
    "from sklearn.ensemble import RandomForestClassifier\n",
    "from sklearn.datasets import make_classification\n",
    "from ggplot import *\n",
    "from sklearn import preprocessing\n",
    "from sklearn.metrics import accuracy_score\n",
    "from sklearn.metrics import precision_score\n",
    "from sklearn.metrics import recall_score\n",
    "\n",
    "import warnings\n",
    "warnings.filterwarnings('ignore')"
   ]
  },
  {
   "cell_type": "code",
   "execution_count": 88,
   "metadata": {
    "collapsed": true
   },
   "outputs": [],
   "source": [
    "# same way with other data.type, pd.read_type() and df.to_type()\n",
    "data_dict = pd.read_pickle('final_project_dataset.pkl')"
   ]
  },
  {
   "cell_type": "code",
   "execution_count": 89,
   "metadata": {
    "collapsed": true
   },
   "outputs": [],
   "source": [
    "# change it to dataframe from dict\n",
    "data_df = pd.DataFrame(data_dict)"
   ]
  },
  {
   "cell_type": "code",
   "execution_count": 90,
   "metadata": {
    "collapsed": true
   },
   "outputs": [],
   "source": [
    "# run df.head() to check table and then transpose it\n",
    "data_df = pd.DataFrame.transpose(data_df)"
   ]
  },
  {
   "cell_type": "markdown",
   "metadata": {},
   "source": [
    "### The Enron Data"
   ]
  },
  {
   "cell_type": "code",
   "execution_count": 91,
   "metadata": {},
   "outputs": [
    {
     "name": "stdout",
     "output_type": "stream",
     "text": [
      "The number of row and column in this dataset: (146, 21)\n"
     ]
    }
   ],
   "source": [
    "# df.shape() check row and col\n",
    "print 'The number of row and column in this dataset: ' + str(data_df.shape)"
   ]
  },
  {
   "cell_type": "code",
   "execution_count": 92,
   "metadata": {},
   "outputs": [
    {
     "data": {
      "text/html": [
       "<div>\n",
       "<table border=\"1\" class=\"dataframe\">\n",
       "  <thead>\n",
       "    <tr style=\"text-align: right;\">\n",
       "      <th></th>\n",
       "      <th>bonus</th>\n",
       "      <th>deferral_payments</th>\n",
       "      <th>deferred_income</th>\n",
       "      <th>director_fees</th>\n",
       "      <th>email_address</th>\n",
       "      <th>exercised_stock_options</th>\n",
       "      <th>expenses</th>\n",
       "      <th>from_messages</th>\n",
       "      <th>from_poi_to_this_person</th>\n",
       "      <th>from_this_person_to_poi</th>\n",
       "      <th>...</th>\n",
       "      <th>long_term_incentive</th>\n",
       "      <th>other</th>\n",
       "      <th>poi</th>\n",
       "      <th>restricted_stock</th>\n",
       "      <th>restricted_stock_deferred</th>\n",
       "      <th>salary</th>\n",
       "      <th>shared_receipt_with_poi</th>\n",
       "      <th>to_messages</th>\n",
       "      <th>total_payments</th>\n",
       "      <th>total_stock_value</th>\n",
       "    </tr>\n",
       "  </thead>\n",
       "  <tbody>\n",
       "    <tr>\n",
       "      <th>ALLEN PHILLIP K</th>\n",
       "      <td>4175000</td>\n",
       "      <td>2869717</td>\n",
       "      <td>-3081055</td>\n",
       "      <td>NaN</td>\n",
       "      <td>phillip.allen@enron.com</td>\n",
       "      <td>1729541</td>\n",
       "      <td>13868</td>\n",
       "      <td>2195</td>\n",
       "      <td>47</td>\n",
       "      <td>65</td>\n",
       "      <td>...</td>\n",
       "      <td>304805</td>\n",
       "      <td>152</td>\n",
       "      <td>False</td>\n",
       "      <td>126027</td>\n",
       "      <td>-126027</td>\n",
       "      <td>201955</td>\n",
       "      <td>1407</td>\n",
       "      <td>2902</td>\n",
       "      <td>4484442</td>\n",
       "      <td>1729541</td>\n",
       "    </tr>\n",
       "    <tr>\n",
       "      <th>BADUM JAMES P</th>\n",
       "      <td>NaN</td>\n",
       "      <td>178980</td>\n",
       "      <td>NaN</td>\n",
       "      <td>NaN</td>\n",
       "      <td>NaN</td>\n",
       "      <td>257817</td>\n",
       "      <td>3486</td>\n",
       "      <td>NaN</td>\n",
       "      <td>NaN</td>\n",
       "      <td>NaN</td>\n",
       "      <td>...</td>\n",
       "      <td>NaN</td>\n",
       "      <td>NaN</td>\n",
       "      <td>False</td>\n",
       "      <td>NaN</td>\n",
       "      <td>NaN</td>\n",
       "      <td>NaN</td>\n",
       "      <td>NaN</td>\n",
       "      <td>NaN</td>\n",
       "      <td>182466</td>\n",
       "      <td>257817</td>\n",
       "    </tr>\n",
       "    <tr>\n",
       "      <th>BANNANTINE JAMES M</th>\n",
       "      <td>NaN</td>\n",
       "      <td>NaN</td>\n",
       "      <td>-5104</td>\n",
       "      <td>NaN</td>\n",
       "      <td>james.bannantine@enron.com</td>\n",
       "      <td>4046157</td>\n",
       "      <td>56301</td>\n",
       "      <td>29</td>\n",
       "      <td>39</td>\n",
       "      <td>0</td>\n",
       "      <td>...</td>\n",
       "      <td>NaN</td>\n",
       "      <td>864523</td>\n",
       "      <td>False</td>\n",
       "      <td>1757552</td>\n",
       "      <td>-560222</td>\n",
       "      <td>477</td>\n",
       "      <td>465</td>\n",
       "      <td>566</td>\n",
       "      <td>916197</td>\n",
       "      <td>5243487</td>\n",
       "    </tr>\n",
       "    <tr>\n",
       "      <th>BAXTER JOHN C</th>\n",
       "      <td>1200000</td>\n",
       "      <td>1295738</td>\n",
       "      <td>-1386055</td>\n",
       "      <td>NaN</td>\n",
       "      <td>NaN</td>\n",
       "      <td>6680544</td>\n",
       "      <td>11200</td>\n",
       "      <td>NaN</td>\n",
       "      <td>NaN</td>\n",
       "      <td>NaN</td>\n",
       "      <td>...</td>\n",
       "      <td>1586055</td>\n",
       "      <td>2660303</td>\n",
       "      <td>False</td>\n",
       "      <td>3942714</td>\n",
       "      <td>NaN</td>\n",
       "      <td>267102</td>\n",
       "      <td>NaN</td>\n",
       "      <td>NaN</td>\n",
       "      <td>5634343</td>\n",
       "      <td>10623258</td>\n",
       "    </tr>\n",
       "    <tr>\n",
       "      <th>BAY FRANKLIN R</th>\n",
       "      <td>400000</td>\n",
       "      <td>260455</td>\n",
       "      <td>-201641</td>\n",
       "      <td>NaN</td>\n",
       "      <td>frank.bay@enron.com</td>\n",
       "      <td>NaN</td>\n",
       "      <td>129142</td>\n",
       "      <td>NaN</td>\n",
       "      <td>NaN</td>\n",
       "      <td>NaN</td>\n",
       "      <td>...</td>\n",
       "      <td>NaN</td>\n",
       "      <td>69</td>\n",
       "      <td>False</td>\n",
       "      <td>145796</td>\n",
       "      <td>-82782</td>\n",
       "      <td>239671</td>\n",
       "      <td>NaN</td>\n",
       "      <td>NaN</td>\n",
       "      <td>827696</td>\n",
       "      <td>63014</td>\n",
       "    </tr>\n",
       "  </tbody>\n",
       "</table>\n",
       "<p>5 rows × 21 columns</p>\n",
       "</div>"
      ],
      "text/plain": [
       "                      bonus deferral_payments deferred_income director_fees  \\\n",
       "ALLEN PHILLIP K     4175000           2869717        -3081055           NaN   \n",
       "BADUM JAMES P           NaN            178980             NaN           NaN   \n",
       "BANNANTINE JAMES M      NaN               NaN           -5104           NaN   \n",
       "BAXTER JOHN C       1200000           1295738        -1386055           NaN   \n",
       "BAY FRANKLIN R       400000            260455         -201641           NaN   \n",
       "\n",
       "                                 email_address exercised_stock_options  \\\n",
       "ALLEN PHILLIP K        phillip.allen@enron.com                 1729541   \n",
       "BADUM JAMES P                              NaN                  257817   \n",
       "BANNANTINE JAMES M  james.bannantine@enron.com                 4046157   \n",
       "BAXTER JOHN C                              NaN                 6680544   \n",
       "BAY FRANKLIN R             frank.bay@enron.com                     NaN   \n",
       "\n",
       "                   expenses from_messages from_poi_to_this_person  \\\n",
       "ALLEN PHILLIP K       13868          2195                      47   \n",
       "BADUM JAMES P          3486           NaN                     NaN   \n",
       "BANNANTINE JAMES M    56301            29                      39   \n",
       "BAXTER JOHN C         11200           NaN                     NaN   \n",
       "BAY FRANKLIN R       129142           NaN                     NaN   \n",
       "\n",
       "                   from_this_person_to_poi        ...         \\\n",
       "ALLEN PHILLIP K                         65        ...          \n",
       "BADUM JAMES P                          NaN        ...          \n",
       "BANNANTINE JAMES M                       0        ...          \n",
       "BAXTER JOHN C                          NaN        ...          \n",
       "BAY FRANKLIN R                         NaN        ...          \n",
       "\n",
       "                   long_term_incentive    other    poi restricted_stock  \\\n",
       "ALLEN PHILLIP K                 304805      152  False           126027   \n",
       "BADUM JAMES P                      NaN      NaN  False              NaN   \n",
       "BANNANTINE JAMES M                 NaN   864523  False          1757552   \n",
       "BAXTER JOHN C                  1586055  2660303  False          3942714   \n",
       "BAY FRANKLIN R                     NaN       69  False           145796   \n",
       "\n",
       "                   restricted_stock_deferred  salary shared_receipt_with_poi  \\\n",
       "ALLEN PHILLIP K                      -126027  201955                    1407   \n",
       "BADUM JAMES P                            NaN     NaN                     NaN   \n",
       "BANNANTINE JAMES M                   -560222     477                     465   \n",
       "BAXTER JOHN C                            NaN  267102                     NaN   \n",
       "BAY FRANKLIN R                        -82782  239671                     NaN   \n",
       "\n",
       "                   to_messages total_payments total_stock_value  \n",
       "ALLEN PHILLIP K           2902        4484442           1729541  \n",
       "BADUM JAMES P              NaN         182466            257817  \n",
       "BANNANTINE JAMES M         566         916197           5243487  \n",
       "BAXTER JOHN C              NaN        5634343          10623258  \n",
       "BAY FRANKLIN R             NaN         827696             63014  \n",
       "\n",
       "[5 rows x 21 columns]"
      ]
     },
     "execution_count": 92,
     "metadata": {},
     "output_type": "execute_result"
    }
   ],
   "source": [
    "# run again to confirm if data transposed to correct shape\n",
    "data_df.head()"
   ]
  },
  {
   "cell_type": "markdown",
   "metadata": {},
   "source": [
    "### Feature Selection"
   ]
  },
  {
   "cell_type": "markdown",
   "metadata": {},
   "source": [
    "All available features fall into **3 major** types of features, **namely financial features**, **email features** and **POI labels**."
   ]
  },
  {
   "cell_type": "markdown",
   "metadata": {},
   "source": [
    "- financial features: ['salary', 'deferral_payments', 'total_payments', 'loan_advances', 'bonus', 'restricted_stock_deferred', 'deferred_income', 'total_stock_value', 'expenses', 'exercised_stock_options', 'other', 'long_term_incentive', 'restricted_stock', 'director_fees'] (all units are in US dollars)\n",
    "\n",
    "- email features: ['to_messages', 'email_address', 'from_poi_to_this_person', 'from_messages', 'from_this_person_to_poi', 'poi', 'shared_receipt_with_poi'] (units are generally number of emails messages; notable exception is ‘email_address’, which is a text string)\n",
    "\n",
    "- POI label: [‘poi’] (boolean, represented as integer)"
   ]
  },
  {
   "cell_type": "code",
   "execution_count": 93,
   "metadata": {
    "collapsed": true
   },
   "outputs": [],
   "source": [
    "## Create features list\n",
    "features_list = ['poi', 'salary', 'to_messages', 'deferral_payments', 'total_payments', \n",
    "                 'loan_advances', 'bonus', 'restricted_stock_deferred', \n",
    "                 'deferred_income', 'total_stock_value', 'expenses', 'from_poi_to_this_person', \n",
    "                 'exercised_stock_options', 'from_messages', 'other', 'from_this_person_to_poi', \n",
    "                 'long_term_incentive', 'shared_receipt_with_poi', 'restricted_stock', 'director_fees'] \n",
    "\n",
    "### Load the dictionary containing the dataset\n",
    "enron_data = pickle.load(open(\"final_project_dataset.pkl\", \"r\") )\n",
    "\n",
    "## Load POI names file\n",
    "f = open(\"poi_names.txt\", \"r\")"
   ]
  },
  {
   "cell_type": "code",
   "execution_count": 94,
   "metadata": {},
   "outputs": [
    {
     "name": "stdout",
     "output_type": "stream",
     "text": [
      "<class 'pandas.core.frame.DataFrame'>\n",
      "Index: 146 entries, ALLEN PHILLIP K to YEAP SOON\n",
      "Data columns (total 21 columns):\n",
      "salary                       95 non-null float64\n",
      "to_messages                  86 non-null float64\n",
      "deferral_payments            39 non-null float64\n",
      "total_payments               125 non-null float64\n",
      "exercised_stock_options      102 non-null float64\n",
      "bonus                        82 non-null float64\n",
      "restricted_stock             110 non-null float64\n",
      "shared_receipt_with_poi      86 non-null float64\n",
      "restricted_stock_deferred    18 non-null float64\n",
      "total_stock_value            126 non-null float64\n",
      "expenses                     95 non-null float64\n",
      "loan_advances                4 non-null float64\n",
      "from_messages                86 non-null float64\n",
      "other                        93 non-null float64\n",
      "from_this_person_to_poi      86 non-null float64\n",
      "poi                          146 non-null bool\n",
      "director_fees                17 non-null float64\n",
      "deferred_income              49 non-null float64\n",
      "long_term_incentive          66 non-null float64\n",
      "email_address                111 non-null object\n",
      "from_poi_to_this_person      86 non-null float64\n",
      "dtypes: bool(1), float64(19), object(1)\n",
      "memory usage: 24.1+ KB\n"
     ]
    }
   ],
   "source": [
    "# dict to dataframe\n",
    "df = pd.DataFrame.from_dict(data_dict, orient='index')\n",
    "\n",
    "# Convert to np nan\n",
    "df.replace('NaN', np.nan, inplace = True)\n",
    "\n",
    "df.info()"
   ]
  },
  {
   "cell_type": "code",
   "execution_count": 95,
   "metadata": {},
   "outputs": [
    {
     "name": "stdout",
     "output_type": "stream",
     "text": [
      "['METTS MARK', 'BAXTER JOHN C', 'ELLIOTT STEVEN', 'CORDES WILLIAM R', 'HANNON KEVIN P', 'MORDAUNT KRISTINA M', 'MEYER ROCKFORD G', 'MCMAHON JEFFREY', 'HORTON STANLEY C', 'PIPER GREGORY F', 'HUMPHREY GENE E', 'UMANOFF ADAM S', 'BLACHMAN JEREMY M', 'SUNDE MARTIN', 'GIBBS DANA R', 'LOWRY CHARLES P', 'COLWELL WESLEY', 'MULLER MARK S', 'JACKSON CHARLENE R', 'WESTFAHL RICHARD K', 'WALTERS GARETH W', 'WALLS JR ROBERT H', 'KITCHEN LOUISE', 'CHAN RONNIE', 'BELFER ROBERT', 'SHANKMAN JEFFREY A', 'WODRASKA JOHN', 'BERGSIEKER RICHARD P', 'URQUHART JOHN A', 'BIBI PHILIPPE A', 'RIEKER PAULA H', 'WHALEY DAVID A', 'BECK SALLY W', 'HAUG DAVID L', 'ECHOLS JOHN B', 'MENDELSOHN JOHN', 'HICKERSON GARY J', 'CLINE KENNETH W', 'LEWIS RICHARD', 'HAYES ROBERT E', 'MCCARTY DANNY J', 'KOPPER MICHAEL J', 'LEFF DANIEL P', 'LAVORATO JOHN J', 'BERBERIAN DAVID', 'DETMERING TIMOTHY J', 'WAKEHAM JOHN', 'POWERS WILLIAM', 'GOLD JOSEPH', 'BANNANTINE JAMES M', 'DUNCAN JOHN H', 'SHAPIRO RICHARD S', 'SHERRIFF JOHN R', 'SHELBY REX', 'LEMAISTRE CHARLES', 'DEFFNER JOSEPH M', 'KISHKILL JOSEPH G', 'WHALLEY LAWRENCE G', 'MCCONNELL MICHAEL S', 'PIRO JIM', 'DELAINEY DAVID W', 'SULLIVAN-SHAKLOVITZ COLLEEN', 'WROBEL BRUCE', 'LINDHOLM TOD A', 'MEYER JEROME J', 'LAY KENNETH L', 'BUTTS ROBERT H', 'OLSON CINDY K', 'MCDONALD REBECCA', 'CUMBERLAND MICHAEL S', 'GAHN ROBERT S', 'MCCLELLAN GEORGE', 'HERMANN ROBERT J', 'SCRIMSHAW MATTHEW', 'GATHMANN WILLIAM D', 'HAEDICKE MARK E', 'BOWEN JR RAYMOND M', 'GILLIS JOHN', 'FITZGERALD JAY L', 'MORAN MICHAEL P', 'REDMOND BRIAN L', 'BAZELIDES PHILIP J', 'BELDEN TIMOTHY N', 'DURAN WILLIAM D', 'THORN TERENCE H', 'FASTOW ANDREW S', 'FOY JOE', 'CALGER CHRISTOPHER F', 'RICE KENNETH D', 'KAMINSKI WINCENTY J', 'LOCKHART EUGENE E', 'COX DAVID', 'OVERDYKE JR JERE C', 'PEREIRA PAULO V. FERRAZ', 'STABLER FRANK', 'SKILLING JEFFREY K', 'BLAKE JR. NORMAN P', 'SHERRICK JEFFREY B', 'PRENTICE JAMES', 'GRAY RODNEY', 'PICKERING MARK R', 'THE TRAVEL AGENCY IN THE PARK', 'NOLES JAMES L', 'KEAN STEVEN J', 'TOTAL', 'FOWLER PEGGY', 'WASAFF GEORGE', 'WHITE JR THOMAS E', 'CHRISTODOULOU DIOMEDES', 'ALLEN PHILLIP K', 'SHARP VICTORIA T', 'JAEDICKE ROBERT', 'WINOKUR JR. HERBERT S', 'BROWN MICHAEL', 'BADUM JAMES P', 'HUGHES JAMES A', 'REYNOLDS LAWRENCE', 'DIMICHELE RICHARD G', 'BHATNAGAR SANJAY', 'CARTER REBECCA C', 'BUCHANAN HAROLD G', 'YEAP SOON', 'MURRAY JULIA H', 'GARLAND C KEVIN', 'DODSON KEITH', 'YEAGER F SCOTT', 'HIRKO JOSEPH', 'DIETRICH JANET R', 'DERRICK JR. JAMES V', 'FREVERT MARK A', 'PAI LOU L', 'BAY FRANKLIN R', 'HAYSLETT RODERICK J', 'FUGH JOHN L', 'FALLON JAMES B', 'KOENIG MARK E', 'SAVAGE FRANK', 'IZZO LAWRENCE L', 'TILNEY ELIZABETH A', 'MARTIN AMANDA K', 'BUY RICHARD B', 'GRAMM WENDY L', 'CAUSEY RICHARD A', 'TAYLOR MITCHELL S', 'DONAHUE JR JEFFREY M', 'GLISAN JR BEN F']\n"
     ]
    }
   ],
   "source": [
    "print data_dict.keys()"
   ]
  },
  {
   "cell_type": "markdown",
   "metadata": {},
   "source": [
    "### Data Exploration\n",
    "- **The number of POI (persons of interest) and non-POI**"
   ]
  },
  {
   "cell_type": "code",
   "execution_count": 96,
   "metadata": {},
   "outputs": [
    {
     "name": "stdout",
     "output_type": "stream",
     "text": [
      "The number of POI is : 18\n",
      "The number of non-POI is : 128\n"
     ]
    }
   ],
   "source": [
    "# sum(data['variable']) need variable as condition\n",
    "# len(data) not need condition\n",
    "is_poi = data_df[data_df['poi']==True]\n",
    "non_poi = data_df[data_df['poi']==False]\n",
    "print 'The number of POI is : ' + str(sum(is_poi['poi']))\n",
    "print 'The number of non-POI is : ' + str(len(non_poi))"
   ]
  },
  {
   "cell_type": "markdown",
   "metadata": {},
   "source": [
    "- **The number of POLs in our POI list**"
   ]
  },
  {
   "cell_type": "code",
   "execution_count": 97,
   "metadata": {},
   "outputs": [
    {
     "name": "stdout",
     "output_type": "stream",
     "text": [
      "35\n"
     ]
    }
   ],
   "source": [
    "# How many POIs in our POI list:\n",
    "with open(\"poi_names.txt\") as f:\n",
    "    pois_total = len(f.readlines()[2:])\n",
    "print (pois_total)"
   ]
  },
  {
   "cell_type": "markdown",
   "metadata": {},
   "source": [
    "- **Top 5 of missing values in each column**"
   ]
  },
  {
   "cell_type": "code",
   "execution_count": 98,
   "metadata": {},
   "outputs": [
    {
     "data": {
      "text/plain": [
       "loan_advances                142\n",
       "director_fees                129\n",
       "restricted_stock_deferred    128\n",
       "deferral_payments            107\n",
       "deferred_income               97\n",
       "dtype: int64"
      ]
     },
     "execution_count": 98,
     "metadata": {},
     "output_type": "execute_result"
    }
   ],
   "source": [
    "data_df[data_df=='NaN']=None\n",
    "data_df.isnull().sum().sort_values(ascending=False)[:5]"
   ]
  },
  {
   "cell_type": "markdown",
   "metadata": {},
   "source": [
    "- **Top 5 of missing values in each row**"
   ]
  },
  {
   "cell_type": "code",
   "execution_count": 99,
   "metadata": {},
   "outputs": [
    {
     "data": {
      "text/plain": [
       "LOCKHART EUGENE E                20\n",
       "GRAMM WENDY L                    18\n",
       "WROBEL BRUCE                     18\n",
       "WHALEY DAVID A                   18\n",
       "THE TRAVEL AGENCY IN THE PARK    18\n",
       "dtype: int64"
      ]
     },
     "execution_count": 99,
     "metadata": {},
     "output_type": "execute_result"
    }
   ],
   "source": [
    "# df.isnull().sum(axis=1) count missing value in row\n",
    "# df.isnull().sum(axis=1)[:5] show 5th row of count missing value\n",
    "data_df.isnull().sum(axis=1).sort_values(ascending=False)[:5]"
   ]
  },
  {
   "cell_type": "markdown",
   "metadata": {},
   "source": [
    "- **Detail of 'LOCKHART EUGENE E' who missing 20 values**"
   ]
  },
  {
   "cell_type": "code",
   "execution_count": 100,
   "metadata": {},
   "outputs": [
    {
     "data": {
      "text/plain": [
       "bonus                         None\n",
       "deferral_payments             None\n",
       "deferred_income               None\n",
       "director_fees                 None\n",
       "email_address                 None\n",
       "exercised_stock_options       None\n",
       "expenses                      None\n",
       "from_messages                 None\n",
       "from_poi_to_this_person       None\n",
       "from_this_person_to_poi       None\n",
       "loan_advances                 None\n",
       "long_term_incentive           None\n",
       "other                         None\n",
       "poi                          False\n",
       "restricted_stock              None\n",
       "restricted_stock_deferred     None\n",
       "salary                        None\n",
       "shared_receipt_with_poi       None\n",
       "to_messages                   None\n",
       "total_payments                None\n",
       "total_stock_value             None\n",
       "Name: LOCKHART EUGENE E, dtype: object"
      ]
     },
     "execution_count": 100,
     "metadata": {},
     "output_type": "execute_result"
    }
   ],
   "source": [
    "# df.loc['variable', :] chek details with specific location\n",
    "data_df.loc['LOCKHART EUGENE E']"
   ]
  },
  {
   "cell_type": "markdown",
   "metadata": {},
   "source": [
    "\"LOCKHART EUGENE E\" seems to not add any information, (all value are missing except the poi column)"
   ]
  },
  {
   "cell_type": "markdown",
   "metadata": {},
   "source": [
    "- **Find outlier for specific variable**"
   ]
  },
  {
   "cell_type": "code",
   "execution_count": 101,
   "metadata": {},
   "outputs": [
    {
     "data": {
      "text/plain": [
       "TOTAL                 97343619\n",
       "LAVORATO JOHN J        8000000\n",
       "LAY KENNETH L          7000000\n",
       "SKILLING JEFFREY K     5600000\n",
       "BELDEN TIMOTHY N       5249999\n",
       "Name: bonus, dtype: object"
      ]
     },
     "execution_count": 101,
     "metadata": {},
     "output_type": "execute_result"
    }
   ],
   "source": [
    "data_df.loc[:,'bonus'].sort_values(ascending=False)[:5]"
   ]
  },
  {
   "cell_type": "markdown",
   "metadata": {},
   "source": [
    "\"TOTAL\" also not an individual."
   ]
  },
  {
   "cell_type": "markdown",
   "metadata": {},
   "source": [
    "The dataset contains information of 21 features from 146 employees.  \n",
    "**\"NaN\"s** are actually strings so I will replace them with Numpy's \"NaN\"s so I can count the information I have across the variables."
   ]
  },
  {
   "cell_type": "markdown",
   "metadata": {},
   "source": [
    "### Count number of NaN's for columns"
   ]
  },
  {
   "cell_type": "code",
   "execution_count": 102,
   "metadata": {},
   "outputs": [
    {
     "name": "stdout",
     "output_type": "stream",
     "text": [
      "salary                        51\n",
      "to_messages                   60\n",
      "deferral_payments            107\n",
      "total_payments                21\n",
      "exercised_stock_options       44\n",
      "bonus                         64\n",
      "restricted_stock              36\n",
      "shared_receipt_with_poi       60\n",
      "restricted_stock_deferred    128\n",
      "total_stock_value             20\n",
      "expenses                      51\n",
      "loan_advances                142\n",
      "from_messages                 60\n",
      "other                         53\n",
      "from_this_person_to_poi       60\n",
      "poi                            0\n",
      "director_fees                129\n",
      "deferred_income               97\n",
      "long_term_incentive           80\n",
      "email_address                 35\n",
      "from_poi_to_this_person       60\n",
      "dtype: int64\n",
      "(146, 21)\n"
     ]
    }
   ],
   "source": [
    "# Count number of NaN's for columns\n",
    "print df.isnull().sum()\n",
    "\n",
    "# DataFrame dimeansion\n",
    "print df.shape"
   ]
  },
  {
   "cell_type": "markdown",
   "metadata": {},
   "source": [
    "### Removing Outliers and Handling 'NaN' values"
   ]
  },
  {
   "cell_type": "code",
   "execution_count": 103,
   "metadata": {},
   "outputs": [
    {
     "name": "stdout",
     "output_type": "stream",
     "text": [
      "salary                     0\n",
      "to_messages                0\n",
      "total_payments             0\n",
      "exercised_stock_options    0\n",
      "bonus                      0\n",
      "restricted_stock           0\n",
      "shared_receipt_with_poi    0\n",
      "total_stock_value          0\n",
      "expenses                   0\n",
      "from_messages              0\n",
      "other                      0\n",
      "from_this_person_to_poi    0\n",
      "poi                        0\n",
      "from_poi_to_this_person    0\n",
      "dtype: int64\n",
      "                      salary  to_messages  total_payments  \\\n",
      "ALLEN PHILLIP K     201955.0       2902.0       4484442.0   \n",
      "BADUM JAMES P            0.0          0.0        182466.0   \n",
      "BANNANTINE JAMES M     477.0        566.0        916197.0   \n",
      "BAXTER JOHN C       267102.0          0.0       5634343.0   \n",
      "BAY FRANKLIN R      239671.0          0.0        827696.0   \n",
      "\n",
      "                    exercised_stock_options      bonus  restricted_stock  \\\n",
      "ALLEN PHILLIP K                   1729541.0  4175000.0          126027.0   \n",
      "BADUM JAMES P                      257817.0        0.0               0.0   \n",
      "BANNANTINE JAMES M                4046157.0        0.0         1757552.0   \n",
      "BAXTER JOHN C                     6680544.0  1200000.0         3942714.0   \n",
      "BAY FRANKLIN R                          0.0   400000.0          145796.0   \n",
      "\n",
      "                    shared_receipt_with_poi  total_stock_value  expenses  \\\n",
      "ALLEN PHILLIP K                      1407.0          1729541.0   13868.0   \n",
      "BADUM JAMES P                           0.0           257817.0    3486.0   \n",
      "BANNANTINE JAMES M                    465.0          5243487.0   56301.0   \n",
      "BAXTER JOHN C                           0.0         10623258.0   11200.0   \n",
      "BAY FRANKLIN R                          0.0            63014.0  129142.0   \n",
      "\n",
      "                    from_messages      other  from_this_person_to_poi    poi  \\\n",
      "ALLEN PHILLIP K            2195.0      152.0                     65.0  False   \n",
      "BADUM JAMES P                 0.0        0.0                      0.0  False   \n",
      "BANNANTINE JAMES M           29.0   864523.0                      0.0  False   \n",
      "BAXTER JOHN C                 0.0  2660303.0                      0.0  False   \n",
      "BAY FRANKLIN R                0.0       69.0                      0.0  False   \n",
      "\n",
      "                    from_poi_to_this_person  \n",
      "ALLEN PHILLIP K                        47.0  \n",
      "BADUM JAMES P                           0.0  \n",
      "BANNANTINE JAMES M                     39.0  \n",
      "BAXTER JOHN C                           0.0  \n",
      "BAY FRANKLIN R                          0.0  \n"
     ]
    },
    {
     "data": {
      "text/html": [
       "<div>\n",
       "<table border=\"1\" class=\"dataframe\">\n",
       "  <thead>\n",
       "    <tr style=\"text-align: right;\">\n",
       "      <th></th>\n",
       "      <th>salary</th>\n",
       "      <th>to_messages</th>\n",
       "      <th>total_payments</th>\n",
       "      <th>exercised_stock_options</th>\n",
       "      <th>bonus</th>\n",
       "      <th>restricted_stock</th>\n",
       "      <th>shared_receipt_with_poi</th>\n",
       "      <th>total_stock_value</th>\n",
       "      <th>expenses</th>\n",
       "      <th>from_messages</th>\n",
       "      <th>other</th>\n",
       "      <th>from_this_person_to_poi</th>\n",
       "      <th>from_poi_to_this_person</th>\n",
       "    </tr>\n",
       "  </thead>\n",
       "  <tbody>\n",
       "    <tr>\n",
       "      <th>count</th>\n",
       "      <td>1.460000e+02</td>\n",
       "      <td>146.000000</td>\n",
       "      <td>1.460000e+02</td>\n",
       "      <td>1.460000e+02</td>\n",
       "      <td>1.460000e+02</td>\n",
       "      <td>1.460000e+02</td>\n",
       "      <td>146.000000</td>\n",
       "      <td>1.460000e+02</td>\n",
       "      <td>1.460000e+02</td>\n",
       "      <td>146.000000</td>\n",
       "      <td>1.460000e+02</td>\n",
       "      <td>146.000000</td>\n",
       "      <td>146.000000</td>\n",
       "    </tr>\n",
       "    <tr>\n",
       "      <th>mean</th>\n",
       "      <td>3.658114e+05</td>\n",
       "      <td>1221.589041</td>\n",
       "      <td>4.350622e+06</td>\n",
       "      <td>4.182736e+06</td>\n",
       "      <td>1.333474e+06</td>\n",
       "      <td>1.749257e+06</td>\n",
       "      <td>692.986301</td>\n",
       "      <td>5.846018e+06</td>\n",
       "      <td>7.074827e+04</td>\n",
       "      <td>358.602740</td>\n",
       "      <td>5.854318e+05</td>\n",
       "      <td>24.287671</td>\n",
       "      <td>38.226027</td>\n",
       "    </tr>\n",
       "    <tr>\n",
       "      <th>std</th>\n",
       "      <td>2.203575e+06</td>\n",
       "      <td>2226.770637</td>\n",
       "      <td>2.693448e+07</td>\n",
       "      <td>2.607040e+07</td>\n",
       "      <td>8.094029e+06</td>\n",
       "      <td>1.089995e+07</td>\n",
       "      <td>1072.969492</td>\n",
       "      <td>3.624681e+07</td>\n",
       "      <td>4.327163e+05</td>\n",
       "      <td>1441.259868</td>\n",
       "      <td>3.682345e+06</td>\n",
       "      <td>79.278206</td>\n",
       "      <td>73.901124</td>\n",
       "    </tr>\n",
       "    <tr>\n",
       "      <th>min</th>\n",
       "      <td>0.000000e+00</td>\n",
       "      <td>0.000000</td>\n",
       "      <td>0.000000e+00</td>\n",
       "      <td>0.000000e+00</td>\n",
       "      <td>0.000000e+00</td>\n",
       "      <td>-2.604490e+06</td>\n",
       "      <td>0.000000</td>\n",
       "      <td>-4.409300e+04</td>\n",
       "      <td>0.000000e+00</td>\n",
       "      <td>0.000000</td>\n",
       "      <td>0.000000e+00</td>\n",
       "      <td>0.000000</td>\n",
       "      <td>0.000000</td>\n",
       "    </tr>\n",
       "    <tr>\n",
       "      <th>25%</th>\n",
       "      <td>0.000000e+00</td>\n",
       "      <td>0.000000</td>\n",
       "      <td>9.394475e+04</td>\n",
       "      <td>0.000000e+00</td>\n",
       "      <td>0.000000e+00</td>\n",
       "      <td>8.115000e+03</td>\n",
       "      <td>0.000000</td>\n",
       "      <td>2.288695e+05</td>\n",
       "      <td>0.000000e+00</td>\n",
       "      <td>0.000000</td>\n",
       "      <td>0.000000e+00</td>\n",
       "      <td>0.000000</td>\n",
       "      <td>0.000000</td>\n",
       "    </tr>\n",
       "    <tr>\n",
       "      <th>50%</th>\n",
       "      <td>2.105960e+05</td>\n",
       "      <td>289.000000</td>\n",
       "      <td>9.413595e+05</td>\n",
       "      <td>6.082935e+05</td>\n",
       "      <td>3.000000e+05</td>\n",
       "      <td>3.605280e+05</td>\n",
       "      <td>102.500000</td>\n",
       "      <td>9.659550e+05</td>\n",
       "      <td>2.018200e+04</td>\n",
       "      <td>16.500000</td>\n",
       "      <td>9.595000e+02</td>\n",
       "      <td>0.000000</td>\n",
       "      <td>2.500000</td>\n",
       "    </tr>\n",
       "    <tr>\n",
       "      <th>75%</th>\n",
       "      <td>2.708505e+05</td>\n",
       "      <td>1585.750000</td>\n",
       "      <td>1.968287e+06</td>\n",
       "      <td>1.714221e+06</td>\n",
       "      <td>8.000000e+05</td>\n",
       "      <td>8.145280e+05</td>\n",
       "      <td>893.500000</td>\n",
       "      <td>2.319991e+06</td>\n",
       "      <td>5.374075e+04</td>\n",
       "      <td>51.250000</td>\n",
       "      <td>1.506065e+05</td>\n",
       "      <td>13.750000</td>\n",
       "      <td>40.750000</td>\n",
       "    </tr>\n",
       "    <tr>\n",
       "      <th>max</th>\n",
       "      <td>2.670423e+07</td>\n",
       "      <td>15149.000000</td>\n",
       "      <td>3.098866e+08</td>\n",
       "      <td>3.117640e+08</td>\n",
       "      <td>9.734362e+07</td>\n",
       "      <td>1.303223e+08</td>\n",
       "      <td>5521.000000</td>\n",
       "      <td>4.345095e+08</td>\n",
       "      <td>5.235198e+06</td>\n",
       "      <td>14368.000000</td>\n",
       "      <td>4.266759e+07</td>\n",
       "      <td>609.000000</td>\n",
       "      <td>528.000000</td>\n",
       "    </tr>\n",
       "  </tbody>\n",
       "</table>\n",
       "</div>"
      ],
      "text/plain": [
       "             salary   to_messages  total_payments  exercised_stock_options  \\\n",
       "count  1.460000e+02    146.000000    1.460000e+02             1.460000e+02   \n",
       "mean   3.658114e+05   1221.589041    4.350622e+06             4.182736e+06   \n",
       "std    2.203575e+06   2226.770637    2.693448e+07             2.607040e+07   \n",
       "min    0.000000e+00      0.000000    0.000000e+00             0.000000e+00   \n",
       "25%    0.000000e+00      0.000000    9.394475e+04             0.000000e+00   \n",
       "50%    2.105960e+05    289.000000    9.413595e+05             6.082935e+05   \n",
       "75%    2.708505e+05   1585.750000    1.968287e+06             1.714221e+06   \n",
       "max    2.670423e+07  15149.000000    3.098866e+08             3.117640e+08   \n",
       "\n",
       "              bonus  restricted_stock  shared_receipt_with_poi  \\\n",
       "count  1.460000e+02      1.460000e+02               146.000000   \n",
       "mean   1.333474e+06      1.749257e+06               692.986301   \n",
       "std    8.094029e+06      1.089995e+07              1072.969492   \n",
       "min    0.000000e+00     -2.604490e+06                 0.000000   \n",
       "25%    0.000000e+00      8.115000e+03                 0.000000   \n",
       "50%    3.000000e+05      3.605280e+05               102.500000   \n",
       "75%    8.000000e+05      8.145280e+05               893.500000   \n",
       "max    9.734362e+07      1.303223e+08              5521.000000   \n",
       "\n",
       "       total_stock_value      expenses  from_messages         other  \\\n",
       "count       1.460000e+02  1.460000e+02     146.000000  1.460000e+02   \n",
       "mean        5.846018e+06  7.074827e+04     358.602740  5.854318e+05   \n",
       "std         3.624681e+07  4.327163e+05    1441.259868  3.682345e+06   \n",
       "min        -4.409300e+04  0.000000e+00       0.000000  0.000000e+00   \n",
       "25%         2.288695e+05  0.000000e+00       0.000000  0.000000e+00   \n",
       "50%         9.659550e+05  2.018200e+04      16.500000  9.595000e+02   \n",
       "75%         2.319991e+06  5.374075e+04      51.250000  1.506065e+05   \n",
       "max         4.345095e+08  5.235198e+06   14368.000000  4.266759e+07   \n",
       "\n",
       "       from_this_person_to_poi  from_poi_to_this_person  \n",
       "count               146.000000               146.000000  \n",
       "mean                 24.287671                38.226027  \n",
       "std                  79.278206                73.901124  \n",
       "min                   0.000000                 0.000000  \n",
       "25%                   0.000000                 0.000000  \n",
       "50%                   0.000000                 2.500000  \n",
       "75%                  13.750000                40.750000  \n",
       "max                 609.000000               528.000000  "
      ]
     },
     "execution_count": 103,
     "metadata": {},
     "output_type": "execute_result"
    }
   ],
   "source": [
    "# Removing column from database if counter > 65\n",
    "\n",
    "for column, series in df.iteritems():\n",
    "    if series.isnull().sum() > 65:\n",
    "        df.drop(column, axis=1, inplace=True)\n",
    "       \n",
    "# Drop email address column\n",
    "if 'email_address' in list(df.columns.values):\n",
    "    df.drop('email_address', axis=1, inplace=True)\n",
    "\n",
    "        \n",
    "df_imp = df.replace(to_replace=np.nan, value=0)\n",
    "df_imp = df.fillna(0).copy(deep=True)\n",
    "df_imp.columns = list(df.columns.values)\n",
    "print df_imp.isnull().sum()\n",
    "print df_imp.head()\n",
    "\n",
    "df_imp.describe()"
   ]
  },
  {
   "cell_type": "markdown",
   "metadata": {},
   "source": [
    "### Data Wrangling (Data cleansing)\n",
    "We have to delete these data because:  \n",
    "- **'TOTAL'** is outlier also is not an individual  \n",
    "- **'THE TRAVEL AGENCY IN THE PARK'** is not a individual  \n",
    "- **'LOCKHART EUGENE E'** no any information"
   ]
  },
  {
   "cell_type": "code",
   "execution_count": 104,
   "metadata": {
    "collapsed": true
   },
   "outputs": [],
   "source": [
    "data_df.drop(['TOTAL', 'THE TRAVEL AGENCY IN THE PARK', 'LOCKHART EUGENE E'], inplace=True)"
   ]
  },
  {
   "cell_type": "markdown",
   "metadata": {},
   "source": [
    "### Data Plotting"
   ]
  },
  {
   "cell_type": "code",
   "execution_count": 105,
   "metadata": {
    "collapsed": true
   },
   "outputs": [],
   "source": [
    "# Plotting Data\n",
    "# for i, _ in enumerate(dataset), need _ because enumerate will return index and value\n",
    "# plt.subplot() includes the numbers of row, column, index\n",
    "# plt.subplots_adjust(hspace=0.5) is distance between each row\n",
    "def plot_univariate(dataset):\n",
    "    fig = plt.figure(figsize=(20, 40))\n",
    "    for i, _ in enumerate(dataset):\n",
    "        try:\n",
    "            sub = plt.subplot(7,3, i+1)\n",
    "            plt.xticks(rotation='vertical')\n",
    "            plt.subplots_adjust(hspace=0.5) \n",
    "            sub.hist(dataset.iloc[:,i].dropna())\n",
    "            sub.set_xlabel(dataset.columns[i])\n",
    "        except:\n",
    "            continue"
   ]
  },
  {
   "cell_type": "markdown",
   "metadata": {},
   "source": [
    "### Plotting data without outliers"
   ]
  },
  {
   "cell_type": "code",
   "execution_count": 106,
   "metadata": {},
   "outputs": [
    {
     "data": {
      "image/png": "[encoded data removed]",
      "text/plain": [
       "<matplotlib.figure.Figure at 0x7fb5467f6590>"
      ]
     },
     "metadata": {},
     "output_type": "display_data"
    }
   ],
   "source": [
    "plot_univariate(data_df)"
   ]
  },
  {
   "cell_type": "code",
   "execution_count": 107,
   "metadata": {},
   "outputs": [
    {
     "name": "stdout",
     "output_type": "stream",
     "text": [
      "104\n",
      "101\n",
      "90\n"
     ]
    },
    {
     "data": {
      "text/html": [
       "<div>\n",
       "<table border=\"1\" class=\"dataframe\">\n",
       "  <thead>\n",
       "    <tr style=\"text-align: right;\">\n",
       "      <th></th>\n",
       "      <th>salary</th>\n",
       "      <th>to_messages</th>\n",
       "      <th>total_payments</th>\n",
       "      <th>exercised_stock_options</th>\n",
       "      <th>bonus</th>\n",
       "      <th>restricted_stock</th>\n",
       "      <th>shared_receipt_with_poi</th>\n",
       "      <th>total_stock_value</th>\n",
       "      <th>expenses</th>\n",
       "      <th>from_messages</th>\n",
       "      <th>other</th>\n",
       "      <th>from_this_person_to_poi</th>\n",
       "      <th>from_poi_to_this_person</th>\n",
       "    </tr>\n",
       "  </thead>\n",
       "  <tbody>\n",
       "    <tr>\n",
       "      <th>count</th>\n",
       "      <td>1.430000e+02</td>\n",
       "      <td>143.000000</td>\n",
       "      <td>1.430000e+02</td>\n",
       "      <td>1.430000e+02</td>\n",
       "      <td>1.430000e+02</td>\n",
       "      <td>1.430000e+02</td>\n",
       "      <td>143.000000</td>\n",
       "      <td>1.430000e+02</td>\n",
       "      <td>1.430000e+02</td>\n",
       "      <td>143.000000</td>\n",
       "      <td>1.430000e+02</td>\n",
       "      <td>143.000000</td>\n",
       "      <td>143.000000</td>\n",
       "    </tr>\n",
       "    <tr>\n",
       "      <th>mean</th>\n",
       "      <td>3.711845e+05</td>\n",
       "      <td>1232.685315</td>\n",
       "      <td>4.432457e+06</td>\n",
       "      <td>4.253742e+06</td>\n",
       "      <td>1.356204e+06</td>\n",
       "      <td>1.772641e+06</td>\n",
       "      <td>696.503497</td>\n",
       "      <td>5.938605e+06</td>\n",
       "      <td>7.159101e+04</td>\n",
       "      <td>365.671329</td>\n",
       "      <td>5.977068e+05</td>\n",
       "      <td>24.685315</td>\n",
       "      <td>38.510490</td>\n",
       "    </tr>\n",
       "    <tr>\n",
       "      <th>std</th>\n",
       "      <td>2.226299e+06</td>\n",
       "      <td>2247.635642</td>\n",
       "      <td>2.721133e+07</td>\n",
       "      <td>2.633948e+07</td>\n",
       "      <td>8.177373e+06</td>\n",
       "      <td>1.101308e+07</td>\n",
       "      <td>1082.589195</td>\n",
       "      <td>3.662162e+07</td>\n",
       "      <td>4.372071e+05</td>\n",
       "      <td>1455.560401</td>\n",
       "      <td>3.720047e+06</td>\n",
       "      <td>80.056707</td>\n",
       "      <td>74.580788</td>\n",
       "    </tr>\n",
       "    <tr>\n",
       "      <th>min</th>\n",
       "      <td>0.000000e+00</td>\n",
       "      <td>0.000000</td>\n",
       "      <td>0.000000e+00</td>\n",
       "      <td>0.000000e+00</td>\n",
       "      <td>0.000000e+00</td>\n",
       "      <td>-2.604490e+06</td>\n",
       "      <td>0.000000</td>\n",
       "      <td>-4.409300e+04</td>\n",
       "      <td>0.000000e+00</td>\n",
       "      <td>0.000000</td>\n",
       "      <td>0.000000e+00</td>\n",
       "      <td>0.000000</td>\n",
       "      <td>0.000000</td>\n",
       "    </tr>\n",
       "    <tr>\n",
       "      <th>25%</th>\n",
       "      <td>0.000000e+00</td>\n",
       "      <td>0.000000</td>\n",
       "      <td>1.070145e+05</td>\n",
       "      <td>0.000000e+00</td>\n",
       "      <td>0.000000e+00</td>\n",
       "      <td>1.623000e+04</td>\n",
       "      <td>0.000000</td>\n",
       "      <td>2.365980e+05</td>\n",
       "      <td>0.000000e+00</td>\n",
       "      <td>0.000000</td>\n",
       "      <td>0.000000e+00</td>\n",
       "      <td>0.000000</td>\n",
       "      <td>0.000000</td>\n",
       "    </tr>\n",
       "    <tr>\n",
       "      <th>50%</th>\n",
       "      <td>2.106920e+05</td>\n",
       "      <td>266.000000</td>\n",
       "      <td>9.665220e+05</td>\n",
       "      <td>6.078370e+05</td>\n",
       "      <td>3.000000e+05</td>\n",
       "      <td>3.605280e+05</td>\n",
       "      <td>91.000000</td>\n",
       "      <td>9.558730e+05</td>\n",
       "      <td>1.883400e+04</td>\n",
       "      <td>17.000000</td>\n",
       "      <td>1.105000e+03</td>\n",
       "      <td>0.000000</td>\n",
       "      <td>1.000000</td>\n",
       "    </tr>\n",
       "    <tr>\n",
       "      <th>75%</th>\n",
       "      <td>2.702590e+05</td>\n",
       "      <td>1639.000000</td>\n",
       "      <td>1.991740e+06</td>\n",
       "      <td>1.741654e+06</td>\n",
       "      <td>8.250000e+05</td>\n",
       "      <td>6.985810e+05</td>\n",
       "      <td>967.500000</td>\n",
       "      <td>2.307584e+06</td>\n",
       "      <td>5.353450e+04</td>\n",
       "      <td>52.500000</td>\n",
       "      <td>1.513555e+05</td>\n",
       "      <td>13.500000</td>\n",
       "      <td>40.500000</td>\n",
       "    </tr>\n",
       "    <tr>\n",
       "      <th>max</th>\n",
       "      <td>2.670423e+07</td>\n",
       "      <td>15149.000000</td>\n",
       "      <td>3.098866e+08</td>\n",
       "      <td>3.117640e+08</td>\n",
       "      <td>9.734362e+07</td>\n",
       "      <td>1.303223e+08</td>\n",
       "      <td>5521.000000</td>\n",
       "      <td>4.345095e+08</td>\n",
       "      <td>5.235198e+06</td>\n",
       "      <td>14368.000000</td>\n",
       "      <td>4.266759e+07</td>\n",
       "      <td>609.000000</td>\n",
       "      <td>528.000000</td>\n",
       "    </tr>\n",
       "  </tbody>\n",
       "</table>\n",
       "</div>"
      ],
      "text/plain": [
       "             salary   to_messages  total_payments  exercised_stock_options  \\\n",
       "count  1.430000e+02    143.000000    1.430000e+02             1.430000e+02   \n",
       "mean   3.711845e+05   1232.685315    4.432457e+06             4.253742e+06   \n",
       "std    2.226299e+06   2247.635642    2.721133e+07             2.633948e+07   \n",
       "min    0.000000e+00      0.000000    0.000000e+00             0.000000e+00   \n",
       "25%    0.000000e+00      0.000000    1.070145e+05             0.000000e+00   \n",
       "50%    2.106920e+05    266.000000    9.665220e+05             6.078370e+05   \n",
       "75%    2.702590e+05   1639.000000    1.991740e+06             1.741654e+06   \n",
       "max    2.670423e+07  15149.000000    3.098866e+08             3.117640e+08   \n",
       "\n",
       "              bonus  restricted_stock  shared_receipt_with_poi  \\\n",
       "count  1.430000e+02      1.430000e+02               143.000000   \n",
       "mean   1.356204e+06      1.772641e+06               696.503497   \n",
       "std    8.177373e+06      1.101308e+07              1082.589195   \n",
       "min    0.000000e+00     -2.604490e+06                 0.000000   \n",
       "25%    0.000000e+00      1.623000e+04                 0.000000   \n",
       "50%    3.000000e+05      3.605280e+05                91.000000   \n",
       "75%    8.250000e+05      6.985810e+05               967.500000   \n",
       "max    9.734362e+07      1.303223e+08              5521.000000   \n",
       "\n",
       "       total_stock_value      expenses  from_messages         other  \\\n",
       "count       1.430000e+02  1.430000e+02     143.000000  1.430000e+02   \n",
       "mean        5.938605e+06  7.159101e+04     365.671329  5.977068e+05   \n",
       "std         3.662162e+07  4.372071e+05    1455.560401  3.720047e+06   \n",
       "min        -4.409300e+04  0.000000e+00       0.000000  0.000000e+00   \n",
       "25%         2.365980e+05  0.000000e+00       0.000000  0.000000e+00   \n",
       "50%         9.558730e+05  1.883400e+04      17.000000  1.105000e+03   \n",
       "75%         2.307584e+06  5.353450e+04      52.500000  1.513555e+05   \n",
       "max         4.345095e+08  5.235198e+06   14368.000000  4.266759e+07   \n",
       "\n",
       "       from_this_person_to_poi  from_poi_to_this_person  \n",
       "count               143.000000               143.000000  \n",
       "mean                 24.685315                38.510490  \n",
       "std                  80.056707                74.580788  \n",
       "min                   0.000000                 0.000000  \n",
       "25%                   0.000000                 0.000000  \n",
       "50%                   0.000000                 1.000000  \n",
       "75%                  13.500000                40.500000  \n",
       "max                 609.000000               528.000000  "
      ]
     },
     "execution_count": 107,
     "metadata": {},
     "output_type": "execute_result"
    }
   ],
   "source": [
    "total_index = enron_data.keys().index(\"TOTAL\")\n",
    "print(total_index)\n",
    "travel_index = enron_data.keys().index(\"THE TRAVEL AGENCY IN THE PARK\")\n",
    "print(travel_index)\n",
    "lock_index = enron_data.keys().index(\"LOCKHART EUGENE E\")\n",
    "print(lock_index)\n",
    "df_subset = df_imp.drop(df_imp.index[[total_index,travel_index,lock_index]])\n",
    "df_subset.describe()"
   ]
  },
  {
   "cell_type": "markdown",
   "metadata": {},
   "source": [
    "หลังจากที่ทำการ Drop ข้อมูลไปแล้ว ก็มาทำการเช็คข้อมูลอีกรอบ"
   ]
  },
  {
   "cell_type": "markdown",
   "metadata": {},
   "source": [
    "**ข้อมูลก่อน Drop:**\n",
    "- The number of POI is : 18\n",
    "- The number of non-POI is : 128"
   ]
  },
  {
   "cell_type": "code",
   "execution_count": 108,
   "metadata": {},
   "outputs": [
    {
     "name": "stdout",
     "output_type": "stream",
     "text": [
      "Values: ['salary', 'to_messages', 'total_payments', 'exercised_stock_options', 'bonus', 'restricted_stock', 'shared_receipt_with_poi', 'total_stock_value', 'expenses', 'from_messages', 'other', 'from_this_person_to_poi', 'poi', 'from_poi_to_this_person']\n",
      "Shape:  (143, 14)\n",
      "The number of POI in DataSet:  18\n",
      "The number of non-POI in Dataset:  125\n"
     ]
    }
   ],
   "source": [
    "print \"Values:\", list(df_subset.columns.values)\n",
    "\n",
    "print \"Shape: \", df_subset.shape\n",
    "\n",
    "print \"The number of POI in DataSet: \", (df_subset['poi'] == 1).sum()\n",
    "print \"The number of non-POI in Dataset: \", (df_subset['poi'] == 0).sum()"
   ]
  },
  {
   "cell_type": "markdown",
   "metadata": {},
   "source": [
    "# Algorithm and Validation"
   ]
  },
  {
   "cell_type": "markdown",
   "metadata": {},
   "source": [
    "### Create new features"
   ]
  },
  {
   "cell_type": "markdown",
   "metadata": {},
   "source": [
    "The following new features will be created:\n",
    "- poi_ratio = from_poi_to_this_person + from_this_person_to_poi / from_messages + to_messages\n",
    "- fraction_to_poi = from_this_person_to_poi / from_messages\n",
    "- fraction_from_poi = from_poi_to_this_person / to_messages"
   ]
  },
  {
   "cell_type": "code",
   "execution_count": 109,
   "metadata": {},
   "outputs": [
    {
     "data": {
      "text/html": [
       "<div>\n",
       "<table border=\"1\" class=\"dataframe\">\n",
       "  <thead>\n",
       "    <tr style=\"text-align: right;\">\n",
       "      <th></th>\n",
       "      <th>salary</th>\n",
       "      <th>to_messages</th>\n",
       "      <th>total_payments</th>\n",
       "      <th>exercised_stock_options</th>\n",
       "      <th>bonus</th>\n",
       "      <th>restricted_stock</th>\n",
       "      <th>shared_receipt_with_poi</th>\n",
       "      <th>total_stock_value</th>\n",
       "      <th>expenses</th>\n",
       "      <th>from_messages</th>\n",
       "      <th>other</th>\n",
       "      <th>from_this_person_to_poi</th>\n",
       "      <th>from_poi_to_this_person</th>\n",
       "      <th>poi_ratio</th>\n",
       "      <th>fraction_to_poi</th>\n",
       "      <th>fraction_from_poi</th>\n",
       "    </tr>\n",
       "  </thead>\n",
       "  <tbody>\n",
       "    <tr>\n",
       "      <th>count</th>\n",
       "      <td>1.430000e+02</td>\n",
       "      <td>143.000000</td>\n",
       "      <td>1.430000e+02</td>\n",
       "      <td>1.430000e+02</td>\n",
       "      <td>1.430000e+02</td>\n",
       "      <td>1.430000e+02</td>\n",
       "      <td>143.000000</td>\n",
       "      <td>1.430000e+02</td>\n",
       "      <td>1.430000e+02</td>\n",
       "      <td>143.000000</td>\n",
       "      <td>1.430000e+02</td>\n",
       "      <td>143.000000</td>\n",
       "      <td>143.000000</td>\n",
       "      <td>84.000000</td>\n",
       "      <td>84.000000</td>\n",
       "      <td>84.000000</td>\n",
       "    </tr>\n",
       "    <tr>\n",
       "      <th>mean</th>\n",
       "      <td>3.711845e+05</td>\n",
       "      <td>1232.685315</td>\n",
       "      <td>4.432457e+06</td>\n",
       "      <td>4.253742e+06</td>\n",
       "      <td>1.356204e+06</td>\n",
       "      <td>1.772641e+06</td>\n",
       "      <td>696.503497</td>\n",
       "      <td>5.938605e+06</td>\n",
       "      <td>7.159101e+04</td>\n",
       "      <td>365.671329</td>\n",
       "      <td>5.977068e+05</td>\n",
       "      <td>24.685315</td>\n",
       "      <td>38.510490</td>\n",
       "      <td>4.778584</td>\n",
       "      <td>18.408794</td>\n",
       "      <td>3.794669</td>\n",
       "    </tr>\n",
       "    <tr>\n",
       "      <th>std</th>\n",
       "      <td>2.226299e+06</td>\n",
       "      <td>2247.635642</td>\n",
       "      <td>2.721133e+07</td>\n",
       "      <td>2.633948e+07</td>\n",
       "      <td>8.177373e+06</td>\n",
       "      <td>1.101308e+07</td>\n",
       "      <td>1082.589195</td>\n",
       "      <td>3.662162e+07</td>\n",
       "      <td>4.372071e+05</td>\n",
       "      <td>1455.560401</td>\n",
       "      <td>3.720047e+06</td>\n",
       "      <td>80.056707</td>\n",
       "      <td>74.580788</td>\n",
       "      <td>4.694177</td>\n",
       "      <td>21.249927</td>\n",
       "      <td>4.089061</td>\n",
       "    </tr>\n",
       "    <tr>\n",
       "      <th>min</th>\n",
       "      <td>0.000000e+00</td>\n",
       "      <td>0.000000</td>\n",
       "      <td>0.000000e+00</td>\n",
       "      <td>0.000000e+00</td>\n",
       "      <td>0.000000e+00</td>\n",
       "      <td>-2.604490e+06</td>\n",
       "      <td>0.000000</td>\n",
       "      <td>-4.409300e+04</td>\n",
       "      <td>0.000000e+00</td>\n",
       "      <td>0.000000</td>\n",
       "      <td>0.000000e+00</td>\n",
       "      <td>0.000000</td>\n",
       "      <td>0.000000</td>\n",
       "      <td>0.000000</td>\n",
       "      <td>0.000000</td>\n",
       "      <td>0.000000</td>\n",
       "    </tr>\n",
       "    <tr>\n",
       "      <th>25%</th>\n",
       "      <td>0.000000e+00</td>\n",
       "      <td>0.000000</td>\n",
       "      <td>1.070145e+05</td>\n",
       "      <td>0.000000e+00</td>\n",
       "      <td>0.000000e+00</td>\n",
       "      <td>1.623000e+04</td>\n",
       "      <td>0.000000</td>\n",
       "      <td>2.365980e+05</td>\n",
       "      <td>0.000000e+00</td>\n",
       "      <td>0.000000</td>\n",
       "      <td>0.000000e+00</td>\n",
       "      <td>0.000000</td>\n",
       "      <td>0.000000</td>\n",
       "      <td>1.245810</td>\n",
       "      <td>1.125167</td>\n",
       "      <td>0.887105</td>\n",
       "    </tr>\n",
       "    <tr>\n",
       "      <th>50%</th>\n",
       "      <td>2.106920e+05</td>\n",
       "      <td>266.000000</td>\n",
       "      <td>9.665220e+05</td>\n",
       "      <td>6.078370e+05</td>\n",
       "      <td>3.000000e+05</td>\n",
       "      <td>3.605280e+05</td>\n",
       "      <td>91.000000</td>\n",
       "      <td>9.558730e+05</td>\n",
       "      <td>1.883400e+04</td>\n",
       "      <td>17.000000</td>\n",
       "      <td>1.105000e+03</td>\n",
       "      <td>0.000000</td>\n",
       "      <td>1.000000</td>\n",
       "      <td>3.176610</td>\n",
       "      <td>10.057359</td>\n",
       "      <td>2.584537</td>\n",
       "    </tr>\n",
       "    <tr>\n",
       "      <th>75%</th>\n",
       "      <td>2.702590e+05</td>\n",
       "      <td>1639.000000</td>\n",
       "      <td>1.991740e+06</td>\n",
       "      <td>1.741654e+06</td>\n",
       "      <td>8.250000e+05</td>\n",
       "      <td>6.985810e+05</td>\n",
       "      <td>967.500000</td>\n",
       "      <td>2.307584e+06</td>\n",
       "      <td>5.353450e+04</td>\n",
       "      <td>52.500000</td>\n",
       "      <td>1.513555e+05</td>\n",
       "      <td>13.500000</td>\n",
       "      <td>40.500000</td>\n",
       "      <td>6.768666</td>\n",
       "      <td>26.611842</td>\n",
       "      <td>5.536290</td>\n",
       "    </tr>\n",
       "    <tr>\n",
       "      <th>max</th>\n",
       "      <td>2.670423e+07</td>\n",
       "      <td>15149.000000</td>\n",
       "      <td>3.098866e+08</td>\n",
       "      <td>3.117640e+08</td>\n",
       "      <td>9.734362e+07</td>\n",
       "      <td>1.303223e+08</td>\n",
       "      <td>5521.000000</td>\n",
       "      <td>4.345095e+08</td>\n",
       "      <td>5.235198e+06</td>\n",
       "      <td>14368.000000</td>\n",
       "      <td>4.266759e+07</td>\n",
       "      <td>609.000000</td>\n",
       "      <td>528.000000</td>\n",
       "      <td>22.435175</td>\n",
       "      <td>100.000000</td>\n",
       "      <td>21.734104</td>\n",
       "    </tr>\n",
       "  </tbody>\n",
       "</table>\n",
       "</div>"
      ],
      "text/plain": [
       "             salary   to_messages  total_payments  exercised_stock_options  \\\n",
       "count  1.430000e+02    143.000000    1.430000e+02             1.430000e+02   \n",
       "mean   3.711845e+05   1232.685315    4.432457e+06             4.253742e+06   \n",
       "std    2.226299e+06   2247.635642    2.721133e+07             2.633948e+07   \n",
       "min    0.000000e+00      0.000000    0.000000e+00             0.000000e+00   \n",
       "25%    0.000000e+00      0.000000    1.070145e+05             0.000000e+00   \n",
       "50%    2.106920e+05    266.000000    9.665220e+05             6.078370e+05   \n",
       "75%    2.702590e+05   1639.000000    1.991740e+06             1.741654e+06   \n",
       "max    2.670423e+07  15149.000000    3.098866e+08             3.117640e+08   \n",
       "\n",
       "              bonus  restricted_stock  shared_receipt_with_poi  \\\n",
       "count  1.430000e+02      1.430000e+02               143.000000   \n",
       "mean   1.356204e+06      1.772641e+06               696.503497   \n",
       "std    8.177373e+06      1.101308e+07              1082.589195   \n",
       "min    0.000000e+00     -2.604490e+06                 0.000000   \n",
       "25%    0.000000e+00      1.623000e+04                 0.000000   \n",
       "50%    3.000000e+05      3.605280e+05                91.000000   \n",
       "75%    8.250000e+05      6.985810e+05               967.500000   \n",
       "max    9.734362e+07      1.303223e+08              5521.000000   \n",
       "\n",
       "       total_stock_value      expenses  from_messages         other  \\\n",
       "count       1.430000e+02  1.430000e+02     143.000000  1.430000e+02   \n",
       "mean        5.938605e+06  7.159101e+04     365.671329  5.977068e+05   \n",
       "std         3.662162e+07  4.372071e+05    1455.560401  3.720047e+06   \n",
       "min        -4.409300e+04  0.000000e+00       0.000000  0.000000e+00   \n",
       "25%         2.365980e+05  0.000000e+00       0.000000  0.000000e+00   \n",
       "50%         9.558730e+05  1.883400e+04      17.000000  1.105000e+03   \n",
       "75%         2.307584e+06  5.353450e+04      52.500000  1.513555e+05   \n",
       "max         4.345095e+08  5.235198e+06   14368.000000  4.266759e+07   \n",
       "\n",
       "       from_this_person_to_poi  from_poi_to_this_person  poi_ratio  \\\n",
       "count               143.000000               143.000000  84.000000   \n",
       "mean                 24.685315                38.510490   4.778584   \n",
       "std                  80.056707                74.580788   4.694177   \n",
       "min                   0.000000                 0.000000   0.000000   \n",
       "25%                   0.000000                 0.000000   1.245810   \n",
       "50%                   0.000000                 1.000000   3.176610   \n",
       "75%                  13.500000                40.500000   6.768666   \n",
       "max                 609.000000               528.000000  22.435175   \n",
       "\n",
       "       fraction_to_poi  fraction_from_poi  \n",
       "count        84.000000          84.000000  \n",
       "mean         18.408794           3.794669  \n",
       "std          21.249927           4.089061  \n",
       "min           0.000000           0.000000  \n",
       "25%           1.125167           0.887105  \n",
       "50%          10.057359           2.584537  \n",
       "75%          26.611842           5.536290  \n",
       "max         100.000000          21.734104  "
      ]
     },
     "execution_count": 109,
     "metadata": {},
     "output_type": "execute_result"
    }
   ],
   "source": [
    "poi_ratio = (df_subset['from_poi_to_this_person'] + df_subset['from_this_person_to_poi']) / (df_subset['from_messages'] + df_subset['to_messages'])\n",
    "fraction_to_poi = (df_subset['from_this_person_to_poi']) / (df_subset['from_messages'])\n",
    "fraction_from_poi = (df_subset['from_poi_to_this_person']) / (df_subset['to_messages'])\n",
    "scale = sklearn.preprocessing.MinMaxScaler(feature_range=(0, 100), copy=True)\n",
    "\n",
    "df_subset['poi_ratio'] = pandas.Series(poi_ratio) * 100\n",
    "df_subset['fraction_to_poi'] = pandas.Series(fraction_to_poi) * 100\n",
    "df_subset['fraction_from_poi'] = pandas.Series(fraction_from_poi) * 100\n",
    "salary_scaled = scale.fit_transform(df_subset['salary'])\n",
    "df_subset.describe()"
   ]
  },
  {
   "cell_type": "markdown",
   "metadata": {},
   "source": [
    "### Training Classifier"
   ]
  },
  {
   "cell_type": "markdown",
   "metadata": {},
   "source": [
    "Split the data at first on training and test data. We will use Stratified Shuffle Split due to small dataset"
   ]
  },
  {
   "cell_type": "code",
   "execution_count": 110,
   "metadata": {
    "collapsed": true
   },
   "outputs": [],
   "source": [
    "labels = df_subset['poi'].copy(deep=True).astype(int).as_matrix()\n",
    "features = (df_subset.drop('poi', axis=1)).fillna(0).copy(deep=True).as_matrix()\n",
    "shuffle = sklearn.cross_validation.StratifiedShuffleSplit(labels, 4, test_size=0.3, random_state=0)"
   ]
  },
  {
   "cell_type": "markdown",
   "metadata": {},
   "source": [
    "Let's try four different initial models, and then start tune parameters of few models."
   ]
  },
  {
   "cell_type": "markdown",
   "metadata": {},
   "source": [
    "#### 1) Gaussian Naive Bayes Classifier"
   ]
  },
  {
   "cell_type": "code",
   "execution_count": 111,
   "metadata": {},
   "outputs": [
    {
     "name": "stdout",
     "output_type": "stream",
     "text": [
      "[ 0.125       0.14583333  0.82978723]\n"
     ]
    }
   ],
   "source": [
    "from sklearn.naive_bayes import GaussianNB\n",
    "\n",
    "gnb_clf = GaussianNB()\n",
    "scores = sklearn.cross_validation.cross_val_score(gnb_clf, features, labels)\n",
    "print scores"
   ]
  },
  {
   "cell_type": "markdown",
   "metadata": {},
   "source": [
    "#### 2) Random Forest Classifier"
   ]
  },
  {
   "cell_type": "code",
   "execution_count": 112,
   "metadata": {},
   "outputs": [
    {
     "name": "stdout",
     "output_type": "stream",
     "text": [
      "[ 0.85416667  0.875       0.91489362]\n"
     ]
    }
   ],
   "source": [
    "from sklearn.ensemble import RandomForestClassifier\n",
    "\n",
    "rf_clf = RandomForestClassifier(n_estimators=10)\n",
    "scores = sklearn.cross_validation.cross_val_score(rf_clf, features, labels)\n",
    "print scores"
   ]
  },
  {
   "cell_type": "markdown",
   "metadata": {},
   "source": [
    "#### 3) Decision Tree Classifier"
   ]
  },
  {
   "cell_type": "code",
   "execution_count": 113,
   "metadata": {},
   "outputs": [
    {
     "name": "stdout",
     "output_type": "stream",
     "text": [
      "[ 0.83333333  0.875       0.85106383]\n"
     ]
    }
   ],
   "source": [
    "from sklearn.tree import DecisionTreeClassifier\n",
    "\n",
    "dtc_clf = RandomForestClassifier(n_estimators=10)\n",
    "scores = sklearn.cross_validation.cross_val_score(rf_clf, features, labels)\n",
    "print scores"
   ]
  },
  {
   "cell_type": "markdown",
   "metadata": {},
   "source": [
    "#### 4) AdaBoost Classifier"
   ]
  },
  {
   "cell_type": "code",
   "execution_count": 114,
   "metadata": {},
   "outputs": [
    {
     "name": "stdout",
     "output_type": "stream",
     "text": [
      "[ 0.83333333  0.83333333  0.87234043]\n"
     ]
    }
   ],
   "source": [
    "from sklearn.ensemble import AdaBoostClassifier\n",
    "\n",
    "ab_clf = AdaBoostClassifier(n_estimators=100)\n",
    "scores = sklearn.cross_validation.cross_val_score(ab_clf, features, labels)\n",
    "print scores "
   ]
  },
  {
   "cell_type": "markdown",
   "metadata": {},
   "source": [
    "### Tunning Choosen Classifiers by using grid_search.GridSearchCV"
   ]
  },
  {
   "cell_type": "markdown",
   "metadata": {},
   "source": [
    "#### Random Forest"
   ]
  },
  {
   "cell_type": "markdown",
   "metadata": {},
   "source": [
    "Let's investigate main parameters of random forest:\n",
    "\n",
    "- min_samples_split\n",
    "- n_estimators\n",
    "- min_samples_leaf\n",
    "- criterion"
   ]
  },
  {
   "cell_type": "code",
   "execution_count": 115,
   "metadata": {
    "collapsed": true
   },
   "outputs": [],
   "source": [
    "from sklearn import grid_search\n",
    "from sklearn.tree import DecisionTreeClassifier\n",
    "\n",
    "cv = sklearn.cross_validation.StratifiedShuffleSplit(labels, n_iter=10)\n",
    "def scoring(estimator, features_test, labels_test):\n",
    "  labels_pred = estimator.predict(features_test)\n",
    "  p = sklearn.metrics.precision_score(labels_test, labels_pred, average='micro')\n",
    "  r = sklearn.metrics.recall_score(labels_test, labels_pred, average='micro')\n",
    "  if p > 0.3 and r > 0.3:\n",
    "    return sklearn.metrics.f1_score(labels_test, labels_pred, average='macro')\n",
    "  return 0"
   ]
  },
  {
   "cell_type": "code",
   "execution_count": 116,
   "metadata": {},
   "outputs": [
    {
     "name": "stdout",
     "output_type": "stream",
     "text": [
      "RandomForestClassifier(bootstrap=True, class_weight=None, criterion='entropy',\n",
      "            max_depth=3, max_features='auto', max_leaf_nodes=None,\n",
      "            min_impurity_split=1e-07, min_samples_leaf=1,\n",
      "            min_samples_split=4, min_weight_fraction_leaf=0.0,\n",
      "            n_estimators=20, n_jobs=1, oob_score=False, random_state=None,\n",
      "            verbose=0, warm_start=False)\n",
      "0.664377289377\n"
     ]
    }
   ],
   "source": [
    "parameters = {'max_depth': [2,3,4,5,6],'min_samples_split':[2,3,4,5], 'n_estimators':[10,20,50], 'min_samples_leaf':[1,2,3,4], 'criterion':('gini', 'entropy')}\n",
    "\n",
    "rf_clf = RandomForestClassifier()\n",
    "rfclf = grid_search.GridSearchCV(rf_clf, parameters, scoring = scoring, cv = cv)\n",
    "rfclf.fit(features, labels)\n",
    "\n",
    "print rfclf.best_estimator_\n",
    "print rfclf.best_score_"
   ]
  },
  {
   "cell_type": "markdown",
   "metadata": {},
   "source": [
    "#### Decision Tree"
   ]
  },
  {
   "cell_type": "code",
   "execution_count": 117,
   "metadata": {},
   "outputs": [
    {
     "name": "stdout",
     "output_type": "stream",
     "text": [
      "DecisionTreeClassifier(class_weight=None, criterion='entropy', max_depth=3,\n",
      "            max_features=None, max_leaf_nodes=None,\n",
      "            min_impurity_split=1e-07, min_samples_leaf=4,\n",
      "            min_samples_split=4, min_weight_fraction_leaf=0.0,\n",
      "            presort=False, random_state=None, splitter='best')\n",
      "0.893270655271\n"
     ]
    }
   ],
   "source": [
    "parameters = {'max_depth': [1,2,3,4,5,6,8,9,10],'min_samples_split':[2,3,4,5],'min_samples_leaf':[1,2,3,4,5,6,7,8], 'criterion':('gini', 'entropy')}\n",
    "\n",
    "dtc_clf = sklearn.tree.DecisionTreeClassifier() \n",
    "dtcclf = grid_search.GridSearchCV(dtc_clf, parameters, scoring = scoring, cv = cv)\n",
    "dtcclf.fit(features, labels)\n",
    "\n",
    "print dtcclf.best_estimator_\n",
    "print dtcclf.best_score_"
   ]
  },
  {
   "cell_type": "markdown",
   "metadata": {},
   "source": [
    "#### AdaBoost"
   ]
  },
  {
   "cell_type": "code",
   "execution_count": 118,
   "metadata": {},
   "outputs": [
    {
     "name": "stdout",
     "output_type": "stream",
     "text": [
      "AdaBoostClassifier(algorithm='SAMME.R',\n",
      "          base_estimator=DecisionTreeClassifier(class_weight=None, criterion='gini', max_depth=8,\n",
      "            max_features=None, max_leaf_nodes=None,\n",
      "            min_impurity_split=1e-07, min_samples_leaf=1,\n",
      "            min_samples_split=2, min_weight_fraction_leaf=0.0,\n",
      "            presort=False, random_state=None, splitter='best'),\n",
      "          learning_rate=0.1, n_estimators=40, random_state=None)\n",
      "0.732905982906\n"
     ]
    }
   ],
   "source": [
    "from sklearn import grid_search\n",
    "from sklearn.tree import DecisionTreeClassifier\n",
    "from sklearn.svm import SVC\n",
    "parameters = {'n_estimators' : [5, 10, 30, 40, 50, 100,150], 'learning_rate' : [0.1, 0.5, 1, 1.5, 2, 2.5], 'algorithm' : ('SAMME', 'SAMME.R')}\n",
    "ada_clf = AdaBoostClassifier(DecisionTreeClassifier(max_depth=8))\n",
    "adaclf = grid_search.GridSearchCV(ada_clf, parameters, scoring = scoring, cv = cv)\n",
    "adaclf.fit(features, labels)\n",
    "\n",
    "print adaclf.best_estimator_\n",
    "print adaclf.best_score_"
   ]
  },
  {
   "cell_type": "markdown",
   "metadata": {},
   "source": [
    "### Testing Classifier"
   ]
  },
  {
   "cell_type": "markdown",
   "metadata": {},
   "source": [
    "#### Random Forest Best Estimator"
   ]
  },
  {
   "cell_type": "code",
   "execution_count": 119,
   "metadata": {},
   "outputs": [
    {
     "name": "stdout",
     "output_type": "stream",
     "text": [
      "RandomForestClassifier(bootstrap=True, class_weight=None, criterion='entropy',\n",
      "            max_depth=3, max_features='auto', max_leaf_nodes=None,\n",
      "            min_impurity_split=1e-07, min_samples_leaf=1,\n",
      "            min_samples_split=4, min_weight_fraction_leaf=0.0,\n",
      "            n_estimators=20, n_jobs=1, oob_score=False, random_state=None,\n",
      "            verbose=0, warm_start=False)\n",
      "\tAccuracy: 0.85500\tPrecision: 0.33522\tRecall: 0.08900\tF1: 0.14066\tF2: 0.10433\n",
      "\tTotal predictions: 15000\tTrue positives:  178\tFalse positives:  353\tFalse negatives: 1822\tTrue negatives: 12647\n",
      "\n"
     ]
    }
   ],
   "source": [
    "rf_best_clf = rfclf.best_estimator_\n",
    "list_cols = list(df_subset.columns.values)\n",
    "list_cols.remove('poi')\n",
    "list_cols.insert(0, 'poi')\n",
    "data = df_subset[list_cols].fillna(0).to_dict(orient='records')\n",
    "enron_data_sub = {}\n",
    "counter = 0\n",
    "for item in data:\n",
    "    enron_data_sub[counter] = item\n",
    "    counter += 1\n",
    "    \n",
    "test_classifier(rf_best_clf, enron_data_sub, list_cols)"
   ]
  },
  {
   "cell_type": "markdown",
   "metadata": {},
   "source": [
    "#### Decision Tree Best Estimator"
   ]
  },
  {
   "cell_type": "code",
   "execution_count": 120,
   "metadata": {},
   "outputs": [
    {
     "name": "stdout",
     "output_type": "stream",
     "text": [
      "DecisionTreeClassifier(class_weight=None, criterion='entropy', max_depth=3,\n",
      "            max_features=None, max_leaf_nodes=None,\n",
      "            min_impurity_split=1e-07, min_samples_leaf=4,\n",
      "            min_samples_split=4, min_weight_fraction_leaf=0.0,\n",
      "            presort=False, random_state=None, splitter='best')\n",
      "\tAccuracy: 0.88100\tPrecision: 0.55943\tRecall: 0.50600\tF1: 0.53137\tF2: 0.51585\n",
      "\tTotal predictions: 15000\tTrue positives: 1012\tFalse positives:  797\tFalse negatives:  988\tTrue negatives: 12203\n",
      "\n"
     ]
    }
   ],
   "source": [
    "dtc_best_clf = dtcclf.best_estimator_\n",
    "test_classifier(dtc_best_clf, enron_data_sub, list_cols)"
   ]
  },
  {
   "cell_type": "markdown",
   "metadata": {},
   "source": [
    "#### AdaBoost Best Estimator"
   ]
  },
  {
   "cell_type": "code",
   "execution_count": 121,
   "metadata": {},
   "outputs": [
    {
     "name": "stdout",
     "output_type": "stream",
     "text": [
      "AdaBoostClassifier(algorithm='SAMME.R',\n",
      "          base_estimator=DecisionTreeClassifier(class_weight=None, criterion='gini', max_depth=8,\n",
      "            max_features=None, max_leaf_nodes=None,\n",
      "            min_impurity_split=1e-07, min_samples_leaf=1,\n",
      "            min_samples_split=2, min_weight_fraction_leaf=0.0,\n",
      "            presort=False, random_state=None, splitter='best'),\n",
      "          learning_rate=0.1, n_estimators=40, random_state=None)\n",
      "\tAccuracy: 0.82660\tPrecision: 0.35406\tRecall: 0.36450\tF1: 0.35920\tF2: 0.36236\n",
      "\tTotal predictions: 15000\tTrue positives:  729\tFalse positives: 1330\tFalse negatives: 1271\tTrue negatives: 11670\n",
      "\n"
     ]
    }
   ],
   "source": [
    "ada_best_clf = adaclf.best_estimator_\n",
    "test_classifier(ada_best_clf, enron_data_sub, list_cols)"
   ]
  },
  {
   "cell_type": "markdown",
   "metadata": {},
   "source": [
    "### Summary Best Estimator\n",
    "| Algorithm | Accuracy | Precision | Recall | F1 | F2 | \n",
    "|---|---|---|---|---|  \n",
    "| Random Forest Classifier() | 0.85 | 0.33 | 0.08 | 0.14 | 0.10 |\n",
    "| Decision Tree Classifier() | 0.88 | 0.55 | 0.50 | 0.53 | 0.51 |\n",
    "| AdaBoost Classifier() | 0.82 | 0.35 | 0.36 | 0.35 | 0.36 |"
   ]
  },
  {
   "cell_type": "markdown",
   "metadata": {},
   "source": [
    "### Validation and Evaluation"
   ]
  },
  {
   "cell_type": "markdown",
   "metadata": {},
   "source": [
    "##### Validation\n",
    "\n",
    "- The validation is a process of model performance evaluation. \n",
    "- Classic mistake is to use small data set for the model training or validate model on the same data set as train it.\n",
    "- There are a number of strategies to validate the model. One of them is to split the available data into train and test data another one is to perform a cross validation: process of splitting the data on k beans equal size; run learning experiments; repeat this operation number of times and take the average test result."
   ]
  },
  {
   "cell_type": "markdown",
   "metadata": {},
   "source": [
    "##### Evaluation (Decision Tree Classifier)\n",
    "**1) Avg. Precision: 0.55**  \n",
    "Precision is also referred to as positive predictive value. It's calculated as True Positive/(True Positive + False Positive). In here it means the proportion of the correct prediction of all the people who are predicted to be poi.  \n",
    "**2) Avg. Recall: 0.50**  \n",
    "Recall is also referred to as the true positive rate or sensitivity. It's calculated as True Positive/(True Positive + False Negative). In here it means the proportion of the poi the model can detect of all the poi. For fraud prediction models, higher recall is generally preferred even if some precision is sacrificed.  "
   ]
  },
  {
   "cell_type": "markdown",
   "metadata": {},
   "source": [
    "## References "
   ]
  },
  {
   "cell_type": "markdown",
   "metadata": {},
   "source": [
    "- Introduction to Machine Learning (Udacity)\n",
    "- scikit-learn Documentation\n",
    "- RandomForest Wordpress\n",
    "- gadatascience\n",
    "- sklearn documentation: http://scikit-learn.org/stable/index.html\n",
    "- pandas documentation: http://pandas.pydata.org"
   ]
  }
 ],
 "metadata": {
  "kernelspec": {
   "display_name": "Python 3",
   "language": "python",
   "name": "python3"
  },
  "language_info": {
   "codemirror_mode": {
    "name": "ipython",
    "version": 3
   },
   "file_extension": ".py",
   "mimetype": "text/x-python",
   "name": "python",
   "nbconvert_exporter": "python",
   "pygments_lexer": "ipython3",
   "version": "3.6.2"
  }
 },
 "nbformat": 4,
 "nbformat_minor": 2
}
